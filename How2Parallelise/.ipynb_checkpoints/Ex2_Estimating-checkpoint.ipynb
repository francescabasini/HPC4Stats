{
 "cells": [
  {
   "cell_type": "markdown",
   "id": "64a1db2a-a116-4da3-8217-6978accba797",
   "metadata": {},
   "source": [
    "### Exercise 2 - ABC rejection algorithm (Shared-memory)\n",
    "\n",
    "We build a simple (not optimal) ABC rejection algorithm to estimate the mean and variance of a gaussian distribution $\\mathcal{N}(\\mu, \\sigma)$ to fit some observed data $Xs$.\n",
    "\n",
    "\n",
    "Likelihood-Free Inference methods such as ABC are used in cases where the likelihood of the data generating process is not available or intractable but it is possible to simulate from the processes and obtain realisations from it.\n",
    "\n",
    "The simulated data, $X_i$, are then compared with the observed ones $X_0$ based on some chosen discrepancy measure $d$ and a tolerance level, $\\varepsilon$. In ABC rejections, we draw from the priors of parameters $\\theta_i$, simulate some data and if the distance between observed and simulated is lower than the tolerance,$$d(X_0, X_i)<= \\varepsilon\\, ,$$ the draw is accepted.\n",
    "\n",
    "Efficiency of the ABC rejection can be improved by using a Sequential framework (SMC).\n",
    "\n",
    "This example can be easily parallelised but the data $X_0$ needs to be used for each draw of an algorithm, thus in a shared-memory framework.\n"
   ]
  },
  {
   "cell_type": "code",
   "execution_count": 19,
   "id": "3dfccdd4-983b-4d23-8964-1d74878b4109",
   "metadata": {},
   "outputs": [],
   "source": [
    "import numpy as np\n",
    "import datetime"
   ]
  },
  {
   "cell_type": "markdown",
   "id": "f1b2dc1a-0e65-472a-b244-b8e03c6ce781",
   "metadata": {},
   "source": [
    "#### synthetic Observed Data"
   ]
  },
  {
   "cell_type": "code",
   "execution_count": 22,
   "id": "01f1b35e-38a8-42a9-879d-6e60fee5703f",
   "metadata": {},
   "outputs": [],
   "source": [
    "true_mu = 5\n",
    "true_sigma = 2.3\n",
    "\n",
    "N = 100000\n",
    "rng = np.random.RandomState(seed  = 19)\n",
    "\n",
    "observed_X_0 = rng.normal(true_mu, true_sigma, N)"
   ]
  },
  {
   "cell_type": "code",
   "execution_count": 23,
   "id": "fdac7f3d-6aa4-4c73-b063-0ffe609e57fd",
   "metadata": {},
   "outputs": [
    {
     "data": {
      "text/plain": [
       "<matplotlib.lines.Line2D at 0x7f4b17f89ba8>"
      ]
     },
     "execution_count": 23,
     "metadata": {},
     "output_type": "execute_result"
    },
    {
     "data": {
      "image/png": "[encoded data removed]",
      "text/plain": [
       "<Figure size 432x288 with 1 Axes>"
      ]
     },
     "metadata": {
      "needs_background": "light"
     },
     "output_type": "display_data"
    }
   ],
   "source": [
    "import matplotlib.pyplot as plt\n",
    "\n",
    "plt.hist(observed_X, bins =100, density = True);\n",
    "plt.axvline(true_mu, color = \"green\", lw = 3)\n",
    "plt.axvline(true_mu - true_sigma, linestyle = \"dashed\", color = \"red\", lw = 2)\n",
    "plt.axvline(true_mu + true_sigma, linestyle = \"dashed\", color = \"red\", lw = 2)"
   ]
  },
  {
   "cell_type": "markdown",
   "id": "3fbded44-baee-4c22-937a-2ae2d17fd8bd",
   "metadata": {},
   "source": [
    "#### ABC move\n",
    "\n",
    "We assume uniform priors for mu and sigma\n",
    "\n",
    "$\\mu \\sim \\mathcal{U}(2.5, 6)$\n",
    "\n",
    "\n",
    "$\\sigma \\sim \\mathcal{U}(1, 4)$\n",
    "\n",
    "\n",
    "We use the 1d Wasserstein distance, contained in library scipy, as a measure.\n"
   ]
  },
  {
   "cell_type": "code",
   "execution_count": 26,
   "id": "c55dc6b7-c413-4302-a29c-047f291e86fa",
   "metadata": {},
   "outputs": [],
   "source": [
    "from scipy.stats import wasserstein_distance"
   ]
  },
  {
   "cell_type": "code",
   "execution_count": 24,
   "id": "7660a4dc-a030-4a57-9694-63d4a27d6496",
   "metadata": {},
   "outputs": [],
   "source": [
    "observed_X_0_bis = rng.normal(true_mu, true_sigma, N)"
   ]
  },
  {
   "cell_type": "code",
   "execution_count": 27,
   "id": "4f021d4e-9b85-4294-8f5f-0831129ff8f0",
   "metadata": {},
   "outputs": [
    {
     "data": {
      "text/plain": [
       "0.016894599654229733"
      ]
     },
     "execution_count": 27,
     "metadata": {},
     "output_type": "execute_result"
    }
   ],
   "source": [
    "wasserstein_distance(observed_X_0_bis, observed_X_0)"
   ]
  },
  {
   "cell_type": "markdown",
   "id": "77582e24-1c07-487e-9469-53f14158099c",
   "metadata": {},
   "source": [
    "We choose a tolerance of 0.02, (we try to be slighly more lenient)"
   ]
  },
  {
   "cell_type": "markdown",
   "id": "95718d44-158a-4e5b-8acd-c098333bab4e",
   "metadata": {},
   "source": [
    "#### ABC move"
   ]
  },
  {
   "cell_type": "code",
   "execution_count": 28,
   "id": "55156f89-82d6-46e2-9e95-b030569a5a62",
   "metadata": {},
   "outputs": [
    {
     "name": "stdout",
     "output_type": "stream",
     "text": [
      "drawn mu: [9.92698644], drawn sigma: [4.17803466] \n"
     ]
    },
    {
     "data": {
      "text/plain": [
       "4.911698766358432"
      ]
     },
     "execution_count": 28,
     "metadata": {},
     "output_type": "execute_result"
    }
   ],
   "source": [
    "draw_mu = np.random.uniform(2.5, 6, 1)\n",
    "draw_sigma = np.random.uniform(1, 4, 1)\n",
    "\n",
    "print(\"drawn mu: {}, drawn sigma: {} \".format(draw_mu, draw_sigma))\n",
    "simulated_X_i = np.random.normal(draw_mu, draw_sigma, N)\n",
    "\n",
    "wasserstein_distance(observed_X_0, simulated_X_i)"
   ]
  },
  {
   "cell_type": "markdown",
   "id": "0776011f-167c-41bd-9533-77a5b7391fda",
   "metadata": {},
   "source": [
    "### Implementation"
   ]
  },
  {
   "cell_type": "code",
   "execution_count": 32,
   "id": "e6f41e84-f842-4e83-9d34-4189cc81c060",
   "metadata": {},
   "outputs": [
    {
     "ename": "KeyboardInterrupt",
     "evalue": "",
     "output_type": "error",
     "traceback": [
      "\u001b[0;31m---------------------------------------------------------------------------\u001b[0m",
      "\u001b[0;31mKeyboardInterrupt\u001b[0m                         Traceback (most recent call last)",
      "\u001b[0;32m/tmp/ipykernel_26944/4244815447.py\u001b[0m in \u001b[0;36m<module>\u001b[0;34m\u001b[0m\n\u001b[1;32m     11\u001b[0m     \u001b[0mdraw_sigma\u001b[0m \u001b[0;34m=\u001b[0m \u001b[0mnp\u001b[0m\u001b[0;34m.\u001b[0m\u001b[0mrandom\u001b[0m\u001b[0;34m.\u001b[0m\u001b[0muniform\u001b[0m\u001b[0;34m(\u001b[0m\u001b[0;36m1\u001b[0m\u001b[0;34m,\u001b[0m \u001b[0;36m4\u001b[0m\u001b[0;34m,\u001b[0m \u001b[0;36m1\u001b[0m\u001b[0;34m)\u001b[0m\u001b[0;34m\u001b[0m\u001b[0;34m\u001b[0m\u001b[0m\n\u001b[1;32m     12\u001b[0m \u001b[0;34m\u001b[0m\u001b[0m\n\u001b[0;32m---> 13\u001b[0;31m     \u001b[0msimulated_X_i\u001b[0m \u001b[0;34m=\u001b[0m \u001b[0mnp\u001b[0m\u001b[0;34m.\u001b[0m\u001b[0mrandom\u001b[0m\u001b[0;34m.\u001b[0m\u001b[0mnormal\u001b[0m\u001b[0;34m(\u001b[0m\u001b[0mdraw_mu\u001b[0m\u001b[0;34m,\u001b[0m \u001b[0mdraw_sigma\u001b[0m\u001b[0;34m,\u001b[0m \u001b[0mN\u001b[0m\u001b[0;34m)\u001b[0m\u001b[0;34m\u001b[0m\u001b[0;34m\u001b[0m\u001b[0m\n\u001b[0m\u001b[1;32m     14\u001b[0m     \u001b[0mdistance\u001b[0m \u001b[0;34m=\u001b[0m \u001b[0mwasserstein_distance\u001b[0m\u001b[0;34m(\u001b[0m\u001b[0mobserved_X_0\u001b[0m\u001b[0;34m,\u001b[0m \u001b[0msimulated_X_i\u001b[0m\u001b[0;34m)\u001b[0m\u001b[0;34m\u001b[0m\u001b[0;34m\u001b[0m\u001b[0m\n\u001b[1;32m     15\u001b[0m     \u001b[0;32mif\u001b[0m \u001b[0mdistance\u001b[0m\u001b[0;34m<=\u001b[0m \u001b[0mtol\u001b[0m\u001b[0;34m:\u001b[0m\u001b[0;34m\u001b[0m\u001b[0;34m\u001b[0m\u001b[0m\n",
      "\u001b[0;31mKeyboardInterrupt\u001b[0m: "
     ]
    }
   ],
   "source": [
    "S = 50 # 5e5\n",
    "#N\n",
    "tol = 0.02\n",
    "\n",
    "mu_draw_vector = np.zeros(S)\n",
    "sigma_draw_vector = np.zeros(S)\n",
    "\n",
    "s = 0\n",
    "while (s<S):\n",
    "    draw_mu = np.random.uniform(2.5, 6, 1)\n",
    "    draw_sigma = np.random.uniform(1, 4, 1)\n",
    "\n",
    "    simulated_X_i = np.random.normal(draw_mu, draw_sigma, N)\n",
    "    distance = wasserstein_distance(observed_X_0, simulated_X_i)\n",
    "    if distance<= tol:\n",
    "        mu_draw_vector[ss] = draw_mu\n",
    "        sigma_draw_vector[ss] = draw_sigma\n",
    "        ss +=1\n",
    "        "
   ]
  },
  {
   "cell_type": "markdown",
   "id": "17ed5a22-088c-49c5-9aa7-8fc2590e986a",
   "metadata": {},
   "source": [
    "### How to Parallelise?\n"
   ]
  },
  {
   "cell_type": "code",
   "execution_count": null,
   "id": "48fae06d-02ce-4c28-9862-12fdce4342ee",
   "metadata": {},
   "outputs": [],
   "source": [
    "from parallel.backends import BackendMPI as Backend\n",
    "backend = Backend()\n",
    "\n",
    "S = 50000\n",
    "\n",
    "Xds = backend.broadcast(observed_X_0)\n",
    "\n",
    "# one sample estimate\n",
    "def abc_move(location, X_0 , tol,N, rng = np.random.RandomState()):\n",
    "    draw_mu = np.random.uniform(2.5, 6, 1)\n",
    "    draw_sigma = np.random.uniform(1, 4, 1)\n",
    "\n",
    "    simulated_X_i = np.random.normal(draw_mu, draw_sigma, N)\n",
    "    distance = wasserstein_distance(X_0, simulated_X_i)\n",
    "    if distance<= tol:\n",
    "        mu_draw_vector[ss] = draw_mu\n",
    "        sigma_draw_vector[ss] = draw_sigma\n",
    "    return integral*4\n",
    "\n",
    "# function to parallelise\n",
    "def abc_rejection(ind):\n",
    "    return abc_move(location=ind, X =Xds, tol = 0.02, N = 10000)\n",
    "\n",
    "seed_arr = [ind for ind in range(S)]\n",
    "seed_pds = backend.parallelize(seed_arr)\n",
    "accepted_parameters_pds = backend.map(multi_sample_pi, seed_pds)\n",
    "accepted_parameters = backend.collect(accepted_parameters_pds)\n"
   ]
  },
  {
   "cell_type": "markdown",
   "id": "fff0add2-be44-45c6-8d97-8aba29273b12",
   "metadata": {},
   "source": [
    "## Retriving estimates "
   ]
  },
  {
   "cell_type": "code",
   "execution_count": 104,
   "id": "b75d9753-6ae0-4333-8f96-5b3b2a2c4876",
   "metadata": {},
   "outputs": [],
   "source": [
    "parallel_estimates = np.genfromtxt('estimates_pi.csv', delimiter=',')"
   ]
  },
  {
   "cell_type": "code",
   "execution_count": null,
   "id": "2aa72639-5754-4fb1-8b19-953b100358bf",
   "metadata": {},
   "outputs": [
    {
     "data": {
      "text/plain": [
       "500000"
      ]
     },
     "execution_count": 105,
     "metadata": {},
     "output_type": "execute_result"
    }
   ],
   "source": [
    "len(parallel_estimates)"
   ]
  },
  {
   "cell_type": "code",
   "execution_count": null,
   "id": "1aaf8209-5c45-4256-9e97-4a5ee5f5e8a6",
   "metadata": {},
   "outputs": [
    {
     "data": {
      "text/plain": [
       "<matplotlib.lines.Line2D at 0x7fdc70285be0>"
      ]
     },
     "execution_count": 106,
     "metadata": {},
     "output_type": "execute_result"
    },
    {
     "data": {
      "image/png": "[encoded data removed]",
      "text/plain": [
       "<Figure size 432x288 with 1 Axes>"
      ]
     },
     "metadata": {
      "needs_background": "light"
     },
     "output_type": "display_data"
    }
   ],
   "source": [
    "plt.hist(parallel_estimates, bins = 100);\n",
    "\n",
    "plt.axvline(np.pi, color = \"red\", lw = 4)\n",
    "plt.axvline(np.mean(parallel_estimates), color = \"green\", lw =3)\n",
    "\n",
    "plt.axvline(np.mean(parallel_estimates)+ np.sqrt(np.var(parallel_estimates)), linestyle = \"dashed\", color = \"red\", lw = 2)\n",
    "plt.axvline(np.mean(parallel_estimates)-np.sqrt(np.var(parallel_estimates)), linestyle = \"dashed\", color = \"red\", lw = 2)\n"
   ]
  },
  {
   "cell_type": "code",
   "execution_count": null,
   "id": "dafa2624-4123-4fbf-b3fe-464cb4f97709",
   "metadata": {},
   "outputs": [
    {
     "name": "stdout",
     "output_type": "stream",
     "text": [
      "3.1416007445408516\n",
      "0.008933194493609908\n"
     ]
    }
   ],
   "source": [
    "print(np.mean(parallel_estimates))\n",
    "\n",
    "print(np.sqrt(np.var(parallel_estimates)))"
   ]
  }
 ],
 "metadata": {
  "kernelspec": {
   "display_name": "Python 3 (ipykernel)",
   "language": "python",
   "name": "python3"
  },
  "language_info": {
   "codemirror_mode": {
    "name": "ipython",
    "version": 3
   },
   "file_extension": ".py",
   "mimetype": "text/x-python",
   "name": "python",
   "nbconvert_exporter": "python",
   "pygments_lexer": "ipython3",
   "version": "3.7.3"
  }
 },
 "nbformat": 4,
 "nbformat_minor": 5
}
