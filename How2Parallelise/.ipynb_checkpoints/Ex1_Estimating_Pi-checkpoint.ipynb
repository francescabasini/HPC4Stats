{
 "cells": [
  {
   "cell_type": "markdown",
   "id": "64a1db2a-a116-4da3-8217-6978accba797",
   "metadata": {},
   "source": [
    "### Exercise 1 - Monte Carlo estimates of Pi\n",
    "\n",
    "For each of the 500 samples, we draw 10 000 realizations, $x_i 's$, from a uniform and use the average value method,\n",
    "$$f_{avg} = \\frac{1}{b-a} \\int_a^b f(x) dx\\, .$$\n",
    "\n",
    "to calculate $\\pi$. In particular, we want to calculate the area under the quarter of a unit-circle thus $f(x) = \\sqrt{1-x^2}$ and we compute:\n",
    "\n",
    "$$\\int_0^1 \\sqrt{1-x^2} dx= \\frac{\\pi}{4}\\, .$$\n",
    "\n"
   ]
  },
  {
   "cell_type": "code",
   "execution_count": 2,
   "id": "3dfccdd4-983b-4d23-8964-1d74878b4109",
   "metadata": {},
   "outputs": [],
   "source": [
    "import numpy as np\n",
    "import datetime"
   ]
  },
  {
   "cell_type": "markdown",
   "id": "3fbded44-baee-4c22-937a-2ae2d17fd8bd",
   "metadata": {},
   "source": [
    "On one sample"
   ]
  },
  {
   "cell_type": "code",
   "execution_count": 4,
   "id": "55156f89-82d6-46e2-9e95-b030569a5a62",
   "metadata": {},
   "outputs": [
    {
     "data": {
      "text/plain": [
       "3.1415111813888985"
      ]
     },
     "execution_count": 4,
     "metadata": {},
     "output_type": "execute_result"
    }
   ],
   "source": [
    "N = 10000\n",
    "x = np.random.uniform(0,1, N)\n",
    "f_x = np.sqrt(1-x**2)\n",
    "integral = np.mean(f_x)\n",
    "\n",
    "integral*4"
   ]
  },
  {
   "cell_type": "markdown",
   "id": "e951cceb-c175-4fd5-9afe-8a4077151f86",
   "metadata": {},
   "source": [
    "over 500 datasets"
   ]
  },
  {
   "cell_type": "code",
   "execution_count": 108,
   "id": "e41a8163-c097-417c-a3cb-bdb774ef0cc9",
   "metadata": {},
   "outputs": [],
   "source": [
    "samples = 5000 # 5e5\n",
    "N = 10000\n",
    "\n",
    "pi_estimates = np.zeros(samples)\n",
    "# set seed\n",
    "rng = np.random.RandomState(seed  = 19)\n",
    " \n",
    "time_start = datetime.datetime.now()\n",
    "for ss in range(samples):\n",
    "    x = rng.uniform(0,1, N)\n",
    "    f_x = np.sqrt(1-x**2)\n",
    "    integral = np.mean(f_x)\n",
    "    pi_estimates[ss] = integral*4\n",
    "    \n",
    "time_end = datetime.datetime.now()\n",
    "time_delta = time_end - time_start"
   ]
  },
  {
   "cell_type": "code",
   "execution_count": 109,
   "id": "0b8fbd4a-ff4c-44c5-9535-24fa08f717bd",
   "metadata": {},
   "outputs": [
    {
     "name": "stdout",
     "output_type": "stream",
     "text": [
      "0\n",
      "0.645304\n"
     ]
    }
   ],
   "source": [
    "print(time_delta.seconds)\n",
    "print(time_delta.microseconds/1e6)\n"
   ]
  },
  {
   "cell_type": "code",
   "execution_count": 110,
   "id": "ae852dbb-fb9b-43b3-bf34-72c2e944960d",
   "metadata": {},
   "outputs": [
    {
     "name": "stdout",
     "output_type": "stream",
     "text": [
      "3.1418960539393677\n",
      "0.008879452663194893\n"
     ]
    }
   ],
   "source": [
    "print(np.mean(pi_estimates))\n",
    "\n",
    "print(np.sqrt(np.var(pi_estimates)))"
   ]
  },
  {
   "cell_type": "code",
   "execution_count": 111,
   "id": "bb61c04d-449e-462c-82f9-330518d7c133",
   "metadata": {},
   "outputs": [],
   "source": [
    "import matplotlib.pyplot as plt"
   ]
  },
  {
   "cell_type": "code",
   "execution_count": 112,
   "id": "8e042883-bd0e-4665-b629-f7d7e1af6c02",
   "metadata": {},
   "outputs": [
    {
     "data": {
      "text/plain": [
       "<matplotlib.lines.Line2D at 0x7fdc776de828>"
      ]
     },
     "execution_count": 112,
     "metadata": {},
     "output_type": "execute_result"
    },
    {
     "data": {
      "image/png": "[encoded data removed]",
      "text/plain": [
       "<Figure size 432x288 with 1 Axes>"
      ]
     },
     "metadata": {
      "needs_background": "light"
     },
     "output_type": "display_data"
    }
   ],
   "source": [
    "plt.hist(pi_estimates, bins = 100);\n",
    "\n",
    "plt.axvline(np.pi, color = \"red\", lw = 4)\n",
    "plt.axvline(np.mean(pi_estimates), color = \"green\", lw =3)\n",
    "\n",
    "plt.axvline(np.mean(pi_estimates)+ np.sqrt(np.var(pi_estimates)), linestyle = \"dashed\", color = \"red\", lw = 2)\n",
    "plt.axvline(np.mean(pi_estimates)-np.sqrt(np.var(pi_estimates)), linestyle = \"dashed\", color = \"red\", lw = 2)\n"
   ]
  },
  {
   "cell_type": "markdown",
   "id": "17ed5a22-088c-49c5-9aa7-8fc2590e986a",
   "metadata": {},
   "source": [
    "### How to Parallelise?\n",
    "This example is trivially parallelisable as we can delegate each sample estimate to a processor and recollect them to compute the mean and variance of all sample estimates.\n",
    "\n",
    "```\n",
    "from parallel.backends import BackendMPI as Backend\n",
    "backend = Backend()\n",
    "\n",
    "S = 50000\n",
    "# one sample estimate\n",
    "def sample_est_pi(sample_iteration_id, N, rng = np.random.RandomState()):\n",
    "    x = np.random.uniform(0,1, N)\n",
    "    f_x = np.sqrt(1-x**2)\n",
    "    integral = np.mean(f_x)\n",
    "    return integral*4\n",
    "\n",
    "# function to parallelise\n",
    "def multi_sample_pi(ind):\n",
    "    return sample_est_pi(sample_iteration_id=ind, N = 10000)\n",
    "\n",
    "seed_arr = [ind for ind in range(S)]\n",
    "seed_pds = backend.parallelize(seed_arr)\n",
    "accepted_parameters_pds = backend.map(multi_sample_pi, seed_pds)\n",
    "accepted_parameters = backend.collect(accepted_parameters_pds)\n",
    "```\n"
   ]
  },
  {
   "cell_type": "markdown",
   "id": "fff0add2-be44-45c6-8d97-8aba29273b12",
   "metadata": {},
   "source": [
    "## Retriving estimates "
   ]
  },
  {
   "cell_type": "code",
   "execution_count": 3,
   "id": "b75d9753-6ae0-4333-8f96-5b3b2a2c4876",
   "metadata": {},
   "outputs": [],
   "source": [
    "parallel_estimates = np.genfromtxt('estimates_pi.csv', delimiter=',')"
   ]
  },
  {
   "cell_type": "code",
   "execution_count": 4,
   "id": "2aa72639-5754-4fb1-8b19-953b100358bf",
   "metadata": {},
   "outputs": [
    {
     "data": {
      "text/plain": [
       "500000"
      ]
     },
     "execution_count": 4,
     "metadata": {},
     "output_type": "execute_result"
    }
   ],
   "source": [
    "len(parallel_estimates)"
   ]
  },
  {
   "cell_type": "code",
   "execution_count": 5,
   "id": "9f4e4af4-77d5-4c3b-adf7-608184f74e22",
   "metadata": {},
   "outputs": [],
   "source": [
    "import matplotlib.pyplot as plt"
   ]
  },
  {
   "cell_type": "code",
   "execution_count": 6,
   "id": "1aaf8209-5c45-4256-9e97-4a5ee5f5e8a6",
   "metadata": {},
   "outputs": [
    {
     "data": {
      "text/plain": [
       "<matplotlib.lines.Line2D at 0x7fd09d0c32e8>"
      ]
     },
     "execution_count": 6,
     "metadata": {},
     "output_type": "execute_result"
    },
    {
     "data": {
      "image/png": "[encoded data removed]",
      "text/plain": [
       "<Figure size 432x288 with 1 Axes>"
      ]
     },
     "metadata": {
      "needs_background": "light"
     },
     "output_type": "display_data"
    }
   ],
   "source": [
    "plt.hist(parallel_estimates, bins = 100);\n",
    "\n",
    "plt.axvline(np.pi, color = \"red\", lw = 4)\n",
    "plt.axvline(np.mean(parallel_estimates), color = \"green\", lw =3)\n",
    "\n",
    "plt.axvline(np.mean(parallel_estimates)+ np.sqrt(np.var(parallel_estimates)), linestyle = \"dashed\", color = \"red\", lw = 2)\n",
    "plt.axvline(np.mean(parallel_estimates)-np.sqrt(np.var(parallel_estimates)), linestyle = \"dashed\", color = \"red\", lw = 2)\n"
   ]
  },
  {
   "cell_type": "code",
   "execution_count": 7,
   "id": "dafa2624-4123-4fbf-b3fe-464cb4f97709",
   "metadata": {},
   "outputs": [
    {
     "name": "stdout",
     "output_type": "stream",
     "text": [
      "3.141588107057106\n",
      "0.008922692835609453\n"
     ]
    }
   ],
   "source": [
    "print(np.mean(parallel_estimates))\n",
    "\n",
    "print(np.sqrt(np.var(parallel_estimates)))"
   ]
  },
  {
   "cell_type": "code",
   "execution_count": null,
   "id": "d77b2539-8334-4d3d-8685-449fc8f77568",
   "metadata": {},
   "outputs": [],
   "source": []
  }
 ],
 "metadata": {
  "kernelspec": {
   "display_name": "Python 3 (ipykernel)",
   "language": "python",
   "name": "python3"
  },
  "language_info": {
   "codemirror_mode": {
    "name": "ipython",
    "version": 3
   },
   "file_extension": ".py",
   "mimetype": "text/x-python",
   "name": "python",
   "nbconvert_exporter": "python",
   "pygments_lexer": "ipython3",
   "version": "3.7.3"
  },
  "vscode": {
   "interpreter": {
    "hash": "d25232a52b70654254034ac6eaa3793df22aa81d5fdd2101aa302bd64bf48ed8"
   }
  }
 },
 "nbformat": 4,
 "nbformat_minor": 5
}
