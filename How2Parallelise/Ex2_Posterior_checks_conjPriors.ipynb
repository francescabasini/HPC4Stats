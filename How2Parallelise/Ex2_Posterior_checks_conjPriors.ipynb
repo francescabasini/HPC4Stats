{
 "cells": [
  {
   "cell_type": "markdown",
   "id": "64a1db2a-a116-4da3-8217-6978accba797",
   "metadata": {},
   "source": [
    "### Exercise 2 - Posterior Predictive Checks with Conjugate Priors (Shared-memory)\n",
    "\n",
    "In a bayesian framework, suppose we observe some data, $\\mathbf{x} = {x_1, \\ldots, x_n}$, coming from a normal distribution $x_i \\sim \\mathcal{N} (\\mu, \\sigma^2)$ with known variance, $\\sigma^2$. \n",
    "We assume a conjugate prior for the mean, $\\mu \\sim \\mathcal{N} (\\mu_0, \\sigma_0^2)$ thus the posterior distribution of $\\mu$ has closed analytical form:\n",
    "\n",
    "\\begin{align}\n",
    "p(\\mu | \\mathcal{\\mathbf{x}}, \\sigma^2, \\mu_0, \\sigma_0^2) & \\sim \\mathcal{N} \\left( \\frac{1}{\\frac{1}{\\sigma_0^2} + \\frac{n}{\\sigma^2}} \\left( \\frac{\\mu_0}{\\sigma_0^2} + \\frac{\\sum_i x_i}{\\sigma^2} \\right) \\ ; \\ \\left(\\frac{1}{\\sigma_0^2}+\\frac{n}{\\sigma^2} \\right)^{-1} \\right) \\\\\n",
    "& \\sim \\mathcal{N}(\\mu_n; \\sigma_n^2)\n",
    "\\end{align}"
   ]
  },
  {
   "cell_type": "markdown",
   "id": "e8578dd7-4e30-43af-a553-421b3f15bbe9",
   "metadata": {},
   "source": [
    "We then want to compute some quantity of interest from the posterior predictive distribution:\n",
    "\\begin{align}\n",
    "p(\\tilde{x}| \\mathbf{x}) & = \\int p(\\mathbf{x}|\\mu) p(\\mu|\\mathbf{x}) \\\\\n",
    "& = \\int \\mathcal{N}(\\mathbf{x}| \\mu, \\sigma^2) \\mathcal{N} (\\mu | \\mu_n \\sigma_n^2) d \\mu \\\\\n",
    "& = \\mathcal{N} (\\mathbf{x}| \\mu_n, \\sigma_n^2 +\\sigma^2)\n",
    "\\end{align}\n",
    "\n",
    "where $$\\mu_n = \\sigma_n^2 \\left( \\frac{\\mu_0}{\\sigma_0^2} + \\frac{\\sum_i x_i}{\\sigma^2}\\right)$$ \n",
    "\n",
    "and $$\\sigma_n^2 = \\frac{1}{\\frac{1}{\\sigma_0^2} + \\frac{n}{\\sigma^2}}$$.\n",
    "\n",
    "For example, we want to compute $\\mathbb{E}(h(\\tilde{x})| \\mathbf{x}) = \\mathbb{E}[\\tilde{x} | \\mathbf{x}]$, the average of the posterior predictive checks.\n",
    "\n",
    "\n",
    "This is a situation where we want to generate many samples from $\\tilde{x}$'s to have a distribution of $h(\\cdot)$."
   ]
  },
  {
   "cell_type": "code",
   "execution_count": 1,
   "id": "bc58f71f-c862-48f6-94e3-2b2747c74035",
   "metadata": {},
   "outputs": [],
   "source": [
    "import numpy as np\n",
    "import datetime"
   ]
  },
  {
   "cell_type": "markdown",
   "id": "03e7d057-2cc8-48c7-9917-03afe9617933",
   "metadata": {},
   "source": [
    "#### Simulate some synthetic data as \"observed\""
   ]
  },
  {
   "cell_type": "code",
   "execution_count": 8,
   "id": "aa085e20-561a-4343-8141-ad95254895af",
   "metadata": {},
   "outputs": [],
   "source": [
    "mu = 9.2\n",
    "sigma = 3.9\n",
    "\n",
    "N = 100000\n",
    "rng = np.random.RandomState(seed  = 19)\n",
    "\n",
    "data_X = rng.normal(mu, sigma, N)"
   ]
  },
  {
   "cell_type": "markdown",
   "id": "9573c03e-057d-4009-a311-f9422ef7b884",
   "metadata": {},
   "source": [
    "#### Set the rest of parameters"
   ]
  },
  {
   "cell_type": "code",
   "execution_count": 6,
   "id": "28861d00-2b37-4c3a-b2e0-dbd01ef07dfd",
   "metadata": {},
   "outputs": [],
   "source": [
    "mu_0 = 9\n",
    "sigma_0 = 0.7"
   ]
  },
  {
   "cell_type": "markdown",
   "id": "c75d0a1d-25ec-42b2-96e3-46fe81f970f9",
   "metadata": {},
   "source": [
    "### Implementation"
   ]
  },
  {
   "cell_type": "code",
   "execution_count": 39,
   "id": "8bca1fc8-3733-41c5-a166-5114fd15383e",
   "metadata": {},
   "outputs": [],
   "source": [
    "# one sample estimate\n",
    "def posterior_pred_h(data_X, sigma, mu_0, sigma_0, N, rng = np.random.RandomState()):  #location,\n",
    "    n = len(data_X)\n",
    "    sigma_n_2 = 1/(n/sigma**2 + 1/sigma_0**2)\n",
    "    mu_n = sigma_n_2*(mu_0/sigma_0**2 + np.sum(data_X)/sigma**2)\n",
    "    # sample mu_n from\n",
    "    mu_n_sampled = rng.normal(mu_n, np.sqrt(sigma_n_2), 1)[0]\n",
    "    x_tilde = rng.normal(mu_n_sampled, np.sqrt(sigma_n_2+ sigma**2), N)\n",
    "    # compute function on x_tildes\n",
    "    h_x = np.mean(x_tilde)\n",
    "    return mu_n_sampled, h_x"
   ]
  },
  {
   "cell_type": "code",
   "execution_count": 40,
   "id": "00f0c740-0815-4625-b1df-bb628ed4742b",
   "metadata": {},
   "outputs": [],
   "source": [
    "mu_posterior, h_x_tilde =  posterior_pred_h(data_X, mu, sigma, mu_0, sigma_0, 100)"
   ]
  },
  {
   "cell_type": "code",
   "execution_count": 41,
   "id": "df6749c7-ef80-492a-9409-e77f7c761b49",
   "metadata": {},
   "outputs": [
    {
     "name": "stdout",
     "output_type": "stream",
     "text": [
      "9.189653372492579\n",
      "9.296976656201924\n"
     ]
    }
   ],
   "source": [
    "print(mu_posterior)\n",
    "print(h_x_tilde)"
   ]
  },
  {
   "cell_type": "markdown",
   "id": "17ed5a22-088c-49c5-9aa7-8fc2590e986a",
   "metadata": {},
   "source": [
    "### How to Parallelise?\n",
    "\n",
    "This time, we would like to have *shared-memory* for the data, $x$.\n",
    "\n",
    "```\n",
    "from parallel.backends import BackendMPI as Backend\n",
    "backend = Backend()\n",
    "\n",
    "# Shared-Mem data\n",
    "Xds = backend.broadcast(observed_X_0)\n",
    "\n",
    "...\n",
    "\n",
    "```"
   ]
  },
  {
   "cell_type": "markdown",
   "id": "fff0add2-be44-45c6-8d97-8aba29273b12",
   "metadata": {},
   "source": [
    "## Retrive the estimates"
   ]
  },
  {
   "cell_type": "code",
   "execution_count": 47,
   "id": "b75d9753-6ae0-4333-8f96-5b3b2a2c4876",
   "metadata": {},
   "outputs": [],
   "source": [
    "parallel_estimates_mu = np.genfromtxt('estimates_mu_ex2.csv', delimiter=',')\n",
    "parallel_estimates_hx = np.genfromtxt('estimates_hx_ex2.csv', delimiter=',')"
   ]
  },
  {
   "cell_type": "code",
   "execution_count": 49,
   "id": "66f9845b-56bb-4c70-9e38-b63567d111a0",
   "metadata": {},
   "outputs": [],
   "source": [
    "import matplotlib.pyplot as plt"
   ]
  },
  {
   "cell_type": "code",
   "execution_count": 51,
   "id": "34c9e217-ca44-4288-adeb-f0422d4af8f6",
   "metadata": {},
   "outputs": [
    {
     "data": {
      "text/plain": [
       "[<matplotlib.lines.Line2D at 0x7f87063f76d8>]"
      ]
     },
     "execution_count": 51,
     "metadata": {},
     "output_type": "execute_result"
    },
    {
     "data": {
      "image/png": "[encoded data removed]",
      "text/plain": [
       "<Figure size 432x288 with 1 Axes>"
      ]
     },
     "metadata": {
      "needs_background": "light"
     },
     "output_type": "display_data"
    }
   ],
   "source": [
    "plt.plot(parallel_estimates_mu, parallel_estimates_hx, \"o\")"
   ]
  },
  {
   "cell_type": "code",
   "execution_count": null,
   "id": "fca00e83-df60-4493-8157-8142ec16ab4a",
   "metadata": {},
   "outputs": [],
   "source": []
  },
  {
   "cell_type": "code",
   "execution_count": null,
   "id": "11dbef4e-495d-4613-9879-5a09a3200e05",
   "metadata": {},
   "outputs": [],
   "source": []
  },
  {
   "cell_type": "code",
   "execution_count": null,
   "id": "344d5f69-679c-472f-bc57-97bec15b69ea",
   "metadata": {},
   "outputs": [],
   "source": []
  },
  {
   "cell_type": "code",
   "execution_count": null,
   "id": "1aaf8209-5c45-4256-9e97-4a5ee5f5e8a6",
   "metadata": {},
   "outputs": [
    {
     "data": {
      "text/plain": [
       "<matplotlib.lines.Line2D at 0x7fdc70285be0>"
      ]
     },
     "execution_count": 106,
     "metadata": {},
     "output_type": "execute_result"
    },
    {
     "data": {
      "image/png": "[encoded data removed]",
      "text/plain": [
       "<Figure size 432x288 with 1 Axes>"
      ]
     },
     "metadata": {
      "needs_background": "light"
     },
     "output_type": "display_data"
    }
   ],
   "source": [
    "plt.hist(parallel_estimates, bins = 100);\n",
    "\n",
    "plt.axvline(np.pi, color = \"red\", lw = 4)\n",
    "plt.axvline(np.mean(parallel_estimates), color = \"green\", lw =3)\n",
    "\n",
    "plt.axvline(np.mean(parallel_estimates)+ np.sqrt(np.var(parallel_estimates)), linestyle = \"dashed\", color = \"red\", lw = 2)\n",
    "plt.axvline(np.mean(parallel_estimates)-np.sqrt(np.var(parallel_estimates)), linestyle = \"dashed\", color = \"red\", lw = 2)\n"
   ]
  },
  {
   "cell_type": "code",
   "execution_count": null,
   "id": "dafa2624-4123-4fbf-b3fe-464cb4f97709",
   "metadata": {},
   "outputs": [
    {
     "name": "stdout",
     "output_type": "stream",
     "text": [
      "3.1416007445408516\n",
      "0.008933194493609908\n"
     ]
    }
   ],
   "source": [
    "print(np.mean(parallel_estimates))\n",
    "\n",
    "print(np.sqrt(np.var(parallel_estimates)))"
   ]
  }
 ],
 "metadata": {
  "kernelspec": {
   "display_name": "Python 3 (ipykernel)",
   "language": "python",
   "name": "python3"
  },
  "language_info": {
   "codemirror_mode": {
    "name": "ipython",
    "version": 3
   },
   "file_extension": ".py",
   "mimetype": "text/x-python",
   "name": "python",
   "nbconvert_exporter": "python",
   "pygments_lexer": "ipython3",
   "version": "3.7.3"
  }
 },
 "nbformat": 4,
 "nbformat_minor": 5
}
