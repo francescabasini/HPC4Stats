{
 "cells": [
  {
   "cell_type": "code",
   "execution_count": null,
   "id": "97ca1de0-ba0b-4073-b1a3-4b233c549bf1",
   "metadata": {},
   "outputs": [],
   "source": [
    "# For purely serial computing\n",
    "#from parallel.backends import BackendDummy as Backend\n",
    "# For MPI parallelized computing\n",
    "from parallel.backends import BackendMPI as Backend\n",
    "backend = Backend()\n",
    "\n",
    "X_bds = backend.broadcast(X)\n",
    "Y_bds = backend.broadcast(Y)\n",
    "\n",
    "\"\"\"\n",
    "Run code\n",
    "\"\"\"\n",
    "def myfunc(ind):\n",
    "    return GLSF.sampling_function(location=ind, X=X, Y=Y, n_step_Gibbs=N_gibbs, perc=sampling_rate,\\\n",
    "                        year_training_start = Year_training_start, year_training_end = Year_training_end,\\\n",
    "                        extreme_case=EC)\n",
    "\n",
    "seed_arr = [ind for ind in range(X.shape[0])]\n",
    "seed_pds = backend.parallelize(seed_arr)\n",
    "accepted_parameters_pds = backend.map(myfunc, seed_pds)\n",
    "accepted_parameters = backend.collect(accepted_parameters_pds)"
   ]
  },
  {
   "cell_type": "code",
   "execution_count": 1,
   "id": "84e4d0c3-7e2d-4fc9-af5a-7428a3b526b0",
   "metadata": {},
   "outputs": [],
   "source": [
    "import numpy as np"
   ]
  },
  {
   "cell_type": "code",
   "execution_count": 2,
   "id": "ee088ef2-30f7-4f09-936b-03e425b8c80b",
   "metadata": {},
   "outputs": [
    {
     "name": "stderr",
     "output_type": "stream",
     "text": [
      "Invalid MIT-MAGIC-COOKIE-1 key"
     ]
    },
    {
     "ename": "ValueError",
     "evalue": "A minimum of 2 ranks are required for the MPI backend",
     "output_type": "error",
     "traceback": [
      "\u001b[0;31m---------------------------------------------------------------------------\u001b[0m",
      "\u001b[0;31mValueError\u001b[0m                                Traceback (most recent call last)",
      "\u001b[0;32m/tmp/ipykernel_19708/3272704814.py\u001b[0m in \u001b[0;36m<module>\u001b[0;34m\u001b[0m\n\u001b[1;32m      1\u001b[0m \u001b[0;32mfrom\u001b[0m \u001b[0mparallel\u001b[0m\u001b[0;34m.\u001b[0m\u001b[0mbackends\u001b[0m \u001b[0;32mimport\u001b[0m \u001b[0mBackendMPI\u001b[0m \u001b[0;32mas\u001b[0m \u001b[0mBackend\u001b[0m\u001b[0;34m\u001b[0m\u001b[0;34m\u001b[0m\u001b[0m\n\u001b[0;32m----> 2\u001b[0;31m \u001b[0mbackend\u001b[0m \u001b[0;34m=\u001b[0m \u001b[0mBackend\u001b[0m\u001b[0;34m(\u001b[0m\u001b[0;34m)\u001b[0m\u001b[0;34m\u001b[0m\u001b[0;34m\u001b[0m\u001b[0m\n\u001b[0m\u001b[1;32m      3\u001b[0m \u001b[0;34m\u001b[0m\u001b[0m\n\u001b[1;32m      4\u001b[0m \u001b[0mX\u001b[0m \u001b[0;34m=\u001b[0m \u001b[0mnp\u001b[0m\u001b[0;34m.\u001b[0m\u001b[0mrandom\u001b[0m\u001b[0;34m.\u001b[0m\u001b[0mnormal\u001b[0m\u001b[0;34m(\u001b[0m\u001b[0;36m0\u001b[0m\u001b[0;34m,\u001b[0m \u001b[0;36m1\u001b[0m\u001b[0;34m,\u001b[0m \u001b[0;36m100\u001b[0m\u001b[0;34m)\u001b[0m\u001b[0;34m\u001b[0m\u001b[0;34m\u001b[0m\u001b[0m\n\u001b[1;32m      5\u001b[0m \u001b[0mY\u001b[0m \u001b[0;34m=\u001b[0m \u001b[0mnp\u001b[0m\u001b[0;34m.\u001b[0m\u001b[0mrandom\u001b[0m\u001b[0;34m.\u001b[0m\u001b[0mnormal\u001b[0m\u001b[0;34m(\u001b[0m\u001b[0;36m0\u001b[0m\u001b[0;34m,\u001b[0m \u001b[0;36m0.2\u001b[0m\u001b[0;34m,\u001b[0m \u001b[0;36m100\u001b[0m\u001b[0;34m)\u001b[0m\u001b[0;34m\u001b[0m\u001b[0;34m\u001b[0m\u001b[0m\n",
      "\u001b[0;32m~/AA_TEACHING/HPC4Stats/How2Parallelise/parallel/backends/__init__.py\u001b[0m in \u001b[0;36mBackendMPI\u001b[0;34m(*args, **kwargs)\u001b[0m\n\u001b[1;32m      4\u001b[0m \u001b[0;32mdef\u001b[0m \u001b[0mBackendMPI\u001b[0m\u001b[0;34m(\u001b[0m\u001b[0;34m*\u001b[0m\u001b[0margs\u001b[0m\u001b[0;34m,\u001b[0m\u001b[0;34m**\u001b[0m\u001b[0mkwargs\u001b[0m\u001b[0;34m)\u001b[0m\u001b[0;34m:\u001b[0m\u001b[0;34m\u001b[0m\u001b[0;34m\u001b[0m\u001b[0m\n\u001b[1;32m      5\u001b[0m     \u001b[0;32mfrom\u001b[0m \u001b[0mparallel\u001b[0m\u001b[0;34m.\u001b[0m\u001b[0mbackends\u001b[0m\u001b[0;34m.\u001b[0m\u001b[0mmpi\u001b[0m \u001b[0;32mimport\u001b[0m \u001b[0mBackendMPI\u001b[0m\u001b[0;34m\u001b[0m\u001b[0;34m\u001b[0m\u001b[0m\n\u001b[0;32m----> 6\u001b[0;31m     \u001b[0;32mreturn\u001b[0m \u001b[0mBackendMPI\u001b[0m\u001b[0;34m(\u001b[0m\u001b[0;34m*\u001b[0m\u001b[0margs\u001b[0m\u001b[0;34m,\u001b[0m\u001b[0;34m**\u001b[0m\u001b[0mkwargs\u001b[0m\u001b[0;34m)\u001b[0m\u001b[0;34m\u001b[0m\u001b[0;34m\u001b[0m\u001b[0m\n\u001b[0m\u001b[1;32m      7\u001b[0m \u001b[0;34m\u001b[0m\u001b[0m\n\u001b[1;32m      8\u001b[0m \u001b[0;32mdef\u001b[0m \u001b[0mBackendMPITestHelper\u001b[0m\u001b[0;34m(\u001b[0m\u001b[0;34m*\u001b[0m\u001b[0margs\u001b[0m\u001b[0;34m,\u001b[0m\u001b[0;34m**\u001b[0m\u001b[0mkwargs\u001b[0m\u001b[0;34m)\u001b[0m\u001b[0;34m:\u001b[0m\u001b[0;34m\u001b[0m\u001b[0;34m\u001b[0m\u001b[0m\n",
      "\u001b[0;32m~/AA_TEACHING/HPC4Stats/How2Parallelise/parallel/backends/mpi.py\u001b[0m in \u001b[0;36m__init__\u001b[0;34m(self, master_node_ranks)\u001b[0m\n\u001b[1;32m    542\u001b[0m \u001b[0;34m\u001b[0m\u001b[0m\n\u001b[1;32m    543\u001b[0m         \u001b[0;32mif\u001b[0m \u001b[0mself\u001b[0m\u001b[0;34m.\u001b[0m\u001b[0msize\u001b[0m \u001b[0;34m<\u001b[0m \u001b[0;36m2\u001b[0m\u001b[0;34m:\u001b[0m\u001b[0;34m\u001b[0m\u001b[0;34m\u001b[0m\u001b[0m\n\u001b[0;32m--> 544\u001b[0;31m             \u001b[0;32mraise\u001b[0m \u001b[0mValueError\u001b[0m\u001b[0;34m(\u001b[0m\u001b[0;34m'A minimum of 2 ranks are required for the MPI backend'\u001b[0m\u001b[0;34m)\u001b[0m\u001b[0;34m\u001b[0m\u001b[0;34m\u001b[0m\u001b[0m\n\u001b[0m\u001b[1;32m    545\u001b[0m \u001b[0;34m\u001b[0m\u001b[0m\n\u001b[1;32m    546\u001b[0m \u001b[0;34m\u001b[0m\u001b[0m\n",
      "\u001b[0;31mValueError\u001b[0m: A minimum of 2 ranks are required for the MPI backend"
     ]
    }
   ],
   "source": [
    "from parallel.backends import BackendMPI as Backend\n",
    "backend = Backend()\n",
    "\n",
    "X = np.random.normal(0, 1, 100)\n",
    "Y = np.random.normal(0, 0.2, 100)\n",
    "\n",
    "X_bds = backend.broadcast(X)\n",
    "Y_bds = backend.broadcast(Y)\n"
   ]
  },
  {
   "cell_type": "code",
   "execution_count": 8,
   "id": "9847114e-7364-465e-8fbf-2eda835fb1ce",
   "metadata": {},
   "outputs": [],
   "source": [
    "def function2parallelise(X, Y):\n",
    "    Z = X+Y\n",
    "    return Z"
   ]
  },
  {
   "cell_type": "code",
   "execution_count": 9,
   "id": "f6086481-28f4-49ec-a1e5-915e82f24773",
   "metadata": {},
   "outputs": [
    {
     "ename": "NameError",
     "evalue": "name 'backend' is not defined",
     "output_type": "error",
     "traceback": [
      "\u001b[0;31m---------------------------------------------------------------------------\u001b[0m",
      "\u001b[0;31mNameError\u001b[0m                                 Traceback (most recent call last)",
      "\u001b[0;32m/tmp/ipykernel_19180/3012545421.py\u001b[0m in \u001b[0;36m<module>\u001b[0;34m\u001b[0m\n\u001b[1;32m      3\u001b[0m \u001b[0;34m\u001b[0m\u001b[0m\n\u001b[1;32m      4\u001b[0m \u001b[0mseed_arr\u001b[0m \u001b[0;34m=\u001b[0m \u001b[0;34m[\u001b[0m\u001b[0mind\u001b[0m \u001b[0;32mfor\u001b[0m \u001b[0mind\u001b[0m \u001b[0;32min\u001b[0m \u001b[0mrange\u001b[0m\u001b[0;34m(\u001b[0m\u001b[0mX\u001b[0m\u001b[0;34m.\u001b[0m\u001b[0mshape\u001b[0m\u001b[0;34m[\u001b[0m\u001b[0;36m0\u001b[0m\u001b[0;34m]\u001b[0m\u001b[0;34m)\u001b[0m\u001b[0;34m]\u001b[0m\u001b[0;34m\u001b[0m\u001b[0;34m\u001b[0m\u001b[0m\n\u001b[0;32m----> 5\u001b[0;31m \u001b[0mseed_pds\u001b[0m \u001b[0;34m=\u001b[0m \u001b[0mbackend\u001b[0m\u001b[0;34m.\u001b[0m\u001b[0mparallelize\u001b[0m\u001b[0;34m(\u001b[0m\u001b[0mseed_arr\u001b[0m\u001b[0;34m)\u001b[0m\u001b[0;34m\u001b[0m\u001b[0;34m\u001b[0m\u001b[0m\n\u001b[0m\u001b[1;32m      6\u001b[0m \u001b[0maccepted_parameters_pds\u001b[0m \u001b[0;34m=\u001b[0m \u001b[0mbackend\u001b[0m\u001b[0;34m.\u001b[0m\u001b[0mmap\u001b[0m\u001b[0;34m(\u001b[0m\u001b[0mmyfunc\u001b[0m\u001b[0;34m,\u001b[0m \u001b[0mseed_pds\u001b[0m\u001b[0;34m)\u001b[0m\u001b[0;34m\u001b[0m\u001b[0;34m\u001b[0m\u001b[0m\n\u001b[1;32m      7\u001b[0m \u001b[0maccepted_parameters\u001b[0m \u001b[0;34m=\u001b[0m \u001b[0mbackend\u001b[0m\u001b[0;34m.\u001b[0m\u001b[0mcollect\u001b[0m\u001b[0;34m(\u001b[0m\u001b[0maccepted_parameters_pds\u001b[0m\u001b[0;34m)\u001b[0m\u001b[0;34m\u001b[0m\u001b[0;34m\u001b[0m\u001b[0m\n",
      "\u001b[0;31mNameError\u001b[0m: name 'backend' is not defined"
     ]
    }
   ],
   "source": [
    "def myfunc(ind):\n",
    "    return function2parallelise(location=ind, X=X, Y=Y)\n",
    "\n",
    "seed_arr = [ind for ind in range(X.shape[0])]\n",
    "seed_pds = backend.parallelize(seed_arr)\n",
    "accepted_parameters_pds = backend.map(myfunc, seed_pds)\n",
    "accepted_parameters = backend.collect(accepted_parameters_pds)"
   ]
  },
  {
   "cell_type": "code",
   "execution_count": null,
   "id": "10f2cf75-d21c-47e7-a0f0-5bb8eb43702a",
   "metadata": {},
   "outputs": [],
   "source": [
    "def myfunc(ind):\n",
    "    return GLSF.sampling_function(location=ind, X=X, Y=Y, n_step_Gibbs=N_gibbs, perc=sampling_rate,\\\n",
    "                        year_training_start = Year_training_start, year_training_end = Year_training_end,\\\n",
    "                        extreme_case=EC)\n",
    "\n",
    "seed_arr = [ind for ind in range(X.shape[0])]\n",
    "seed_pds = backend.parallelize(seed_arr)\n",
    "accepted_parameters_pds = backend.map(myfunc, seed_pds)\n",
    "accepted_parameters = backend.collect(accepted_parameters_pds)"
   ]
  }
 ],
 "metadata": {
  "kernelspec": {
   "display_name": "Python 3 (ipykernel)",
   "language": "python",
   "name": "python3"
  },
  "language_info": {
   "codemirror_mode": {
    "name": "ipython",
    "version": 3
   },
   "file_extension": ".py",
   "mimetype": "text/x-python",
   "name": "python",
   "nbconvert_exporter": "python",
   "pygments_lexer": "ipython3",
   "version": "3.7.3"
  },
  "vscode": {
   "interpreter": {
    "hash": "916dbcbb3f70747c44a77c7bcd40155683ae19c65e1c03b4aa3499c5328201f1"
   }
  }
 },
 "nbformat": 4,
 "nbformat_minor": 5
}
